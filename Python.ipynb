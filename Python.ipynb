{
  "nbformat": 4,
  "nbformat_minor": 0,
  "metadata": {
    "colab": {
      "name": "Python",
      "provenance": [],
      "collapsed_sections": []
    },
    "kernelspec": {
      "name": "python3",
      "display_name": "Python 3"
    },
    "language_info": {
      "name": "python"
    }
  },
  "cells": [
    {
      "cell_type": "code",
      "source": [
        "from collections import Counter\n",
        "a=input()\n",
        "b=a.split()\n",
        "Counter=Counter(b)\n",
        "c=Counter.most_common(2)\n",
        "d=[]\n",
        "e=b[::-1]\n",
        "for i in c :\n",
        "    for j in i:\n",
        "      d.append(j)\n",
        "print(' '.join(e))\n",
        "print(d[0],':',d[1],\"times\")\n",
        "print(d[2],':',d[3],\"times\")"
      ],
      "metadata": {
        "colab": {
          "base_uri": "https://localhost:8080/"
        },
        "id": "w-wsKb7_VrBs",
        "outputId": "016ee1bc-b784-44c9-a99c-2967e8453f20"
      },
      "execution_count": 3,
      "outputs": [
        {
          "output_type": "stream",
          "name": "stdout",
          "text": [
            "I must not fear. Fear is the mind-killer. Fear is the little-death that brings total obliteration. I will face my fear. I will permit it to pass over me and through me. And when it has gone past I will turn the inner eye to see its path. Where the fear has gone there will be nothing. Only I will remain.\n",
            "remain. will I Only nothing. be will there gone has fear the Where path. its see to eye inner the turn will I past gone has it when And me. through and me over pass to it permit will I fear. my face will I obliteration. total brings that little-death the is Fear mind-killer. the is Fear fear. not must I\n",
            "I : 5 times\n",
            "will : 5 times\n"
          ]
        }
      ]
    },
    {
      "cell_type": "code",
      "source": [],
      "metadata": {
        "id": "ZS_1LplmWfxs"
      },
      "execution_count": null,
      "outputs": []
    },
    {
      "cell_type": "code",
      "source": [],
      "metadata": {
        "id": "q73J4vMNWgmN"
      },
      "execution_count": null,
      "outputs": []
    }
  ]
}